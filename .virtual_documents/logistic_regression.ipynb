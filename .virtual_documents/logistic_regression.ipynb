from sklearn import datasets
from sklearn.linear_model import LogisticRegression
from sklearn.metrics import log_loss
import numpy as np
import matplotlib.pyplot as plt


iris = datasets.load_iris()
iris.keys()
# print(iris["DESCR"])
# print(iris["target"])


X = iris["data"][:,3].reshape(-1,1)
Y = (iris["target"]==2).astype(np.int32)


log_reg = LogisticRegression(max_iter=15)
log_reg.fit(X,Y)


X_new = np.linspace(0,3,150).reshape(-1,1)
Y_pred = log_reg.predict_proba(X_new)


plt.plot(X_new, Y_pred[:,1], 'g-',  label='iris-verginica')
plt.plot(X_new, Y_pred[:,0], 'b--',  label='not-iris-verginica')
plt.xlabel("petal width")
plt.ylabel("probablity of iris virginica")
plt.legend()


print(f"train acuracy : {log_reg.score(X,Y)*100}%")
print(f"test acuracy : {log_reg.score(X_new,log_reg.predict(X_new))*100}%")
print(f"interations : {log_reg.n_iter_}")
